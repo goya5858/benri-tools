{
 "cells": [
  {
   "cell_type": "code",
   "execution_count": 1,
   "metadata": {},
   "outputs": [],
   "source": [
    "import os\n",
    "from sklearn import datasets\n",
    "import numpy as np\n",
    "\n",
    "import torch\n",
    "import pytorch_lightning as pl\n",
    "from pytorch_lightning import LightningModule, Trainer, LightningDataModule\n",
    "from torchmetrics import Accuracy\n",
    "from torch import nn\n",
    "from torch.nn import functional as F\n",
    "\n",
    "from torch.utils.data import DataLoader, random_split\n",
    "from torchvision import transforms\n",
    "\n",
    "from pytorch_lightning.callbacks import ModelCheckpoint\n",
    "from pytorch_lightning.callbacks.early_stopping import EarlyStopping\n",
    "\n",
    "import mlflow\n",
    "\n",
    "from omegaconf import DictConfig, ListConfig, OmegaConf\n",
    "import hydra"
   ]
  },
  {
   "cell_type": "markdown",
   "metadata": {},
   "source": [
    "モデルの読み込み"
   ]
  },
  {
   "cell_type": "code",
   "execution_count": 2,
   "metadata": {},
   "outputs": [],
   "source": [
    "# 1. 従来通りのModelを作成する\n",
    "\n",
    "class IrisNet(nn.Module):\n",
    "    def __init__(self, cfg):\n",
    "        super().__init__()\n",
    "\n",
    "        self.x1   = nn.Linear(in_features=4, out_features=cfg.model.hidden_size )\n",
    "        self.act1 = nn.ReLU()\n",
    "        self.x2   = nn.Linear(in_features=cfg.model.hidden_size, out_features=3)\n",
    "        self.act2 = nn.Softmax(dim=1)\n",
    "    \n",
    "    def forward(self, x):\n",
    "        x = self.x1(x)\n",
    "        x = self.act1(x)\n",
    "        x = self.x2(x)\n",
    "        x = self.act2(x)\n",
    "        return x"
   ]
  },
  {
   "cell_type": "code",
   "execution_count": 3,
   "metadata": {},
   "outputs": [],
   "source": [
    "#2. train/valid stepを設定する、plmoduleを作成する\n",
    "\n",
    "class PLIrisModel(pl.LightningModule):\n",
    "    def __init__(self, cfg: DictConfig, experiment_name=\"test1\"):\n",
    "        super().__init__()\n",
    "        self.cfg     = cfg\n",
    "\n",
    "        self.net     = IrisNet(cfg=cfg)\n",
    "        self.mtrics  = Accuracy()\n",
    "\n",
    "        ### MLFlow ###\n",
    "        #self.writer = MlflowWriter(experiment_name=experiment_name)\n",
    "        #self.writer.create_new_run()\n",
    "        #self.writer.log_params_from_omegaconf_dict(cfg)\n",
    "\n",
    "    def forward(self, x):\n",
    "        return self.net(x.float())\n",
    "\n",
    "    def training_step(self, batch, batch_idx):\n",
    "        x, y = batch\n",
    "        pred = self(x)\n",
    "        loss = F.nll_loss(pred, y)\n",
    "        batch_loss = loss * x.size(0)\n",
    "        return {\"loss\": loss, \"y\": y, \"pred\": pred.detach(), \"batch_loss\": batch_loss.detach()}\n",
    "    \n",
    "    def training_epoch_end(self, train_step_outputs):\n",
    "        preds      = torch.cat( [trn[\"pred\"] for trn in train_step_outputs], dim=0 )\n",
    "        ys         = torch.cat( [trn[\"y\"] for trn in train_step_outputs], dim=0 )\n",
    "        epoch_loss = sum( [trn[\"batch_loss\"] for trn in train_step_outputs] ) / ys.size(0)\n",
    "\n",
    "        acc = self.mtrics(preds, ys)\n",
    "        print('-------- Current Epoch {} --------'.format(self.current_epoch + 1))\n",
    "        print('train Loss: {:.4f} train Acc: {:.4f}'.format(epoch_loss, acc))\n",
    "\n",
    "        ### MLFlow ###\n",
    "        #self.writer.log_metric(\"trn_loss\", float(epoch_loss) )\n",
    "        #self.writer.log_metric(\"trn_acc\",  float(acc))\n",
    "\n",
    "    def validation_step(self, batch, batch_idx):\n",
    "        x, y = batch\n",
    "        pred = self(x)\n",
    "        loss = F.nll_loss(pred, y)\n",
    "        batch_loss = loss * x.size(0)\n",
    "        return {\"y\": y, \"pred\": pred.detach(), \"batch_loss\": batch_loss.detach()}\n",
    "    \n",
    "    def validation_epoch_end(self, valid_step_outputs):\n",
    "        preds      = torch.cat( [val[\"pred\"] for val in valid_step_outputs], dim=0 )\n",
    "        ys         = torch.cat( [val[\"y\"] for val in valid_step_outputs], dim=0 )\n",
    "        epoch_loss = sum( [val[\"batch_loss\"] for val in valid_step_outputs] ) / ys.size(0)\n",
    "\n",
    "        acc = self.mtrics(preds, ys)\n",
    "        print('-------- Current Epoch {} --------'.format(self.current_epoch + 1))\n",
    "        print('valid Loss: {:.4f} valid Acc: {:.4f}'.format(epoch_loss, acc))\n",
    "\n",
    "        ### for CallBacks ###\n",
    "        self.log(\"val_loss\", epoch_loss)\n",
    "        self.log(\"val_acc\", acc)\n",
    "        \n",
    "        ### MLFlow ###\n",
    "        #self.writer.log_metric(\"val_loss\", float(epoch_loss) )\n",
    "        #self.writer.log_metric(\"val_acc\",  float(acc))\n",
    "    \n",
    "    def configure_optimizers(self):\n",
    "        lr         = self.cfg.optim.lr\n",
    "        optim_name = self.cfg.optim.optim_name\n",
    "        optimizer  = getattr(torch.optim, optim_name)(self.parameters(), lr=lr)\n",
    "        return optimizer"
   ]
  },
  {
   "cell_type": "code",
   "execution_count": 4,
   "metadata": {},
   "outputs": [],
   "source": [
    "# check_pointからのモデルの読み込み\n",
    "model_path = \"models/best-checkpoint.ckpt\"\n",
    "cfg = OmegaConf.load(\"configs/config.yaml\")\n",
    "\n",
    "model = PLIrisModel.load_from_checkpoint(model_path, cfg=cfg)"
   ]
  },
  {
   "cell_type": "code",
   "execution_count": 5,
   "metadata": {},
   "outputs": [
    {
     "name": "stdout",
     "output_type": "stream",
     "text": [
      "torch model prediction is tensor([[0.3982, 0.5937, 0.0080]], grad_fn=<SoftmaxBackward0>)\n"
     ]
    }
   ],
   "source": [
    "sample_input = torch.randn((1, 4))\n",
    "\n",
    "torch_pred = model(sample_input)\n",
    "print(\"torch model prediction is\", torch_pred)\n"
   ]
  },
  {
   "cell_type": "markdown",
   "metadata": {},
   "source": [
    "ONNX への変換"
   ]
  },
  {
   "cell_type": "code",
   "execution_count": 6,
   "metadata": {},
   "outputs": [],
   "source": [
    "import torch.onnx\n",
    "\n",
    "def ExportONNX(model, dummy_input):\n",
    "    model.eval()\n",
    "\n",
    "    torch.onnx.export(\n",
    "        model,\n",
    "        dummy_input,\n",
    "        \"./models/SampleModel.onnx\",\n",
    "        export_params=True,\n",
    "        opset_version=10,\n",
    "        do_constant_folding=True,\n",
    "        input_names = ['input'],  \n",
    "        output_names = ['output'], \n",
    "        dynamic_axes={'input' : {0 : 'batch_size'},    # variable lenght axes\n",
    "                      'output' : {0 : 'batch_size'}}\n",
    "        )   \n",
    "    print(\" \") \n",
    "    print('Model has been converted to ONNX') "
   ]
  },
  {
   "cell_type": "code",
   "execution_count": 7,
   "metadata": {},
   "outputs": [
    {
     "name": "stdout",
     "output_type": "stream",
     "text": [
      " \n",
      "Model has been converted to ONNX\n"
     ]
    }
   ],
   "source": [
    "ExportONNX(model, dummy_input=sample_input)"
   ]
  },
  {
   "cell_type": "markdown",
   "metadata": {},
   "source": [
    "ONNXモデルの読み込み、実行テスト"
   ]
  },
  {
   "cell_type": "code",
   "execution_count": 8,
   "metadata": {},
   "outputs": [
    {
     "name": "stdout",
     "output_type": "stream",
     "text": [
      "ONNX_model_prediction is [[0.3982159  0.5937354  0.00804876]]\n"
     ]
    }
   ],
   "source": [
    "onnx_model_path = \"models/SampleModel.onnx\"\n",
    "\n",
    "import onnxruntime as ort \n",
    "ort_session = ort.InferenceSession( onnx_model_path )\n",
    "\n",
    "# Inputの名前を、モデルの変換時のものと一致させる\n",
    "ort_inputs = { \"input\": list(sample_input.numpy().tolist()) } \n",
    "#ort_inputs = { \"input\": [[0.1, 0.2, 0, 1]] } #普通の数字のリストのInputでも推論可能\n",
    "\n",
    "onnx_pred = ort_session.run( None, ort_inputs )[0]\n",
    "# Noneで、モデルのすべてのOutputを取得する\n",
    "# Noneではなく、ONNX変換時に指定したoutput名を入れればそれを取得可能\n",
    "\n",
    "print(\"ONNX_model_prediction is\", onnx_pred)"
   ]
  }
 ],
 "metadata": {
  "interpreter": {
   "hash": "d4d1e4263499bec80672ea0156c357c1ee493ec2b1c70f0acce89fc37c4a6abe"
  },
  "kernelspec": {
   "display_name": "Python 3.7.11 64-bit ('base': conda)",
   "language": "python",
   "name": "python3"
  },
  "language_info": {
   "codemirror_mode": {
    "name": "ipython",
    "version": 3
   },
   "file_extension": ".py",
   "mimetype": "text/x-python",
   "name": "python",
   "nbconvert_exporter": "python",
   "pygments_lexer": "ipython3",
   "version": "3.7.11"
  },
  "orig_nbformat": 4
 },
 "nbformat": 4,
 "nbformat_minor": 2
}
