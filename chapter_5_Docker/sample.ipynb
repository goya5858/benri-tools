{
 "cells": [
  {
   "cell_type": "code",
   "execution_count": 2,
   "metadata": {},
   "outputs": [],
   "source": [
    "import onnxruntime as ort \n",
    "\n",
    "class ONNXModel:\n",
    "    def __init__(self):\n",
    "        onnx_model_path = \"models/SampleModel.onnx\"\n",
    "        self.ort_session = ort.InferenceSession( onnx_model_path )\n",
    "\n",
    "    def predict(self, inp):\n",
    "        # Inputの名前を、モデルの変換時のものと一致させる\n",
    "        ort_inputs = { \"input\": inp } \n",
    "        onnx_pred = self.ort_session.run( None, ort_inputs )[0]\n",
    "        # Noneで、モデルのすべてのOutputを取得する\n",
    "        # Noneではなく、ONNX変換時に指定したoutput名を入れればそれを取得可能\n",
    "        return onnx_pred"
   ]
  },
  {
   "cell_type": "code",
   "execution_count": 3,
   "metadata": {},
   "outputs": [
    {
     "data": {
      "text/plain": [
       "array([[0.25327796, 0.584682  , 0.16204004]], dtype=float32)"
      ]
     },
     "execution_count": 3,
     "metadata": {},
     "output_type": "execute_result"
    }
   ],
   "source": [
    "nums = \"0.1 0.3 0 1\"\n",
    "inputs = [[float(n) for n in nums.split(\" \") ]]\n",
    "\n",
    "model = ONNXModel()\n",
    "model.predict(inputs)"
   ]
  }
 ],
 "metadata": {
  "interpreter": {
   "hash": "d4d1e4263499bec80672ea0156c357c1ee493ec2b1c70f0acce89fc37c4a6abe"
  },
  "kernelspec": {
   "display_name": "Python 3.7.11 64-bit ('base': conda)",
   "language": "python",
   "name": "python3"
  },
  "language_info": {
   "codemirror_mode": {
    "name": "ipython",
    "version": 3
   },
   "file_extension": ".py",
   "mimetype": "text/x-python",
   "name": "python",
   "nbconvert_exporter": "python",
   "pygments_lexer": "ipython3",
   "version": "3.7.11"
  },
  "orig_nbformat": 4
 },
 "nbformat": 4,
 "nbformat_minor": 2
}
